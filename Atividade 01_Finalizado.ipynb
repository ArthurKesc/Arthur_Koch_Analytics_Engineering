{
 "cells": [
  {
   "cell_type": "markdown",
   "id": "f926db46",
   "metadata": {},
   "source": [
    "# Exercícios"
   ]
  },
  {
   "cell_type": "markdown",
   "id": "1ce9041f",
   "metadata": {},
   "source": [
    "1. Crie um dataframe de tax_data_2016.csv que usa apenas as colunas específicas necessárias para ver se há diferenças por geografia e nível de renda na composição familiar.\n",
    "Para fazer isso, selecione as colunas sobre grupo de renda, são elas: CEP (zipcode), status de declaração de imposto de renda (coluna mars1 para solteiro e MARS2 para casado), e  NUMDEP (número de dependentes). \n",
    "\n"
   ]
  },
  {
   "cell_type": "code",
   "execution_count": 9,
   "id": "b4efb1c8",
   "metadata": {},
   "outputs": [
    {
     "name": "stdout",
     "output_type": "stream",
     "text": [
      "   zipcode  single  married  dependents\n",
      "0        0  477700   105350      491310\n",
      "1        0  211930   142340      360480\n",
      "2        0   83420   137870      182880\n",
      "3        0   29420   124060      130160\n",
      "4        0   20240   188080      195990\n"
     ]
    }
   ],
   "source": [
    "import pandas as pd\n",
    "\n",
    "\n",
    "df = pd.read_csv('data/us_tax_data_2016.csv',usecols= ['zipcode', 'mars1', 'MARS2', 'NUMDEP'])\n",
    "df.columns = ['zipcode', 'single', 'married', 'dependents']\n",
    "\n",
    "print(df.head())"
   ]
  },
  {
   "cell_type": "markdown",
   "id": "5749f89e",
   "metadata": {},
   "source": [
    "2. Obtenha as primeiras 500 linhas em um dataframe chamado primeiras500. \n",
    "Em seguida obtenha as próximas 500 linhas em um dataframe proximas500. \n",
    "\n",
    "Para fazer isso, use os argumentos ``nrows`` e  ``skiprows`` para obter os registros corretos, \n",
    "``header`` para informar aos pandas que os dados não têm nomes de colunas e ``names`` para fornecer os nomes de colunas ausentes. \n",
    "    \n",
    "Depois, nomeie as colunas em proximos500 fornecendo uma lista de colunas de primeiros500 para o argumento ``names``.\n",
    "Use a função list() para obter nomes de coluna de primeiros500."
   ]
  },
  {
   "cell_type": "code",
   "execution_count": 40,
   "id": "431f9bd1",
   "metadata": {},
   "outputs": [
    {
     "name": "stdout",
     "output_type": "stream",
     "text": [
      "   STATEFIPS STATE  zipcode  agi_stub      N1   mars1   MARS2   MARS4    PREP  \\\n",
      "0          1    AL        0         1  815440  477700  105350  221200  440830   \n",
      "1          1    AL        0         2  495830  211930  142340  128890  272440   \n",
      "2          1    AL        0         3  263390   83420  137870   36340  154880   \n",
      "3          1    AL        0         4  167190   29420  124060   10610   99700   \n",
      "4          1    AL        0         5  217440   20240  188080    4880  129410   \n",
      "\n",
      "        N2  ...  N10300   A10300  N85530  A85530  N85300  A85300  N11901  \\\n",
      "0  1296920  ...  367320   330066       0       0       0       0   63420   \n",
      "1   996240  ...  398050   984297       0       0       0       0   74090   \n",
      "2   584000  ...  253180  1349246       0       0       0       0   64000   \n",
      "3   421720  ...  165830  1425430       0       0       0       0   45020   \n",
      "4   601040  ...  216720  3922449     390     155      60      19   82940   \n",
      "\n",
      "   A11901  N11902   A11902  \n",
      "0   51444  711580  1831661  \n",
      "1  110889  416090  1173463  \n",
      "2  143060  195130   543284  \n",
      "3  128920  117410   381329  \n",
      "4  423629  126130   506526  \n",
      "\n",
      "[5 rows x 147 columns]\n",
      "   STATEFIPS STATE  zipcode  agi_stub   N1  mars1  MARS2  MARS4  PREP   N2  \\\n",
      "0          1    AL    35178         2  390    150    120    100   200  760   \n",
      "1          1    AL    35178         3  230     60    120     50   140  540   \n",
      "2          1    AL    35178         4  120     30     90      0    80  280   \n",
      "3          1    AL    35178         5  110      0     90      0    80  280   \n",
      "4          1    AL    35178         6   20      0     20      0     0   50   \n",
      "\n",
      "   ...  N10300  A10300  N85530  A85530  N85300  A85300  N11901  A11901  \\\n",
      "0  ...     320     728       0       0       0       0      50      64   \n",
      "1  ...     220    1052       0       0       0       0      50     110   \n",
      "2  ...     110     931       0       0       0       0      40      62   \n",
      "3  ...     110    1829       0       0       0       0      50     420   \n",
      "4  ...      20    1551       0       0       0       0       0       0   \n",
      "\n",
      "   N11902  A11902  \n",
      "0     330     926  \n",
      "1     170     508  \n",
      "2      80     274  \n",
      "3      70     295  \n",
      "4       0       0  \n",
      "\n",
      "[5 rows x 147 columns]\n"
     ]
    }
   ],
   "source": [
    "import pandas as pd\n",
    "\n",
    "\n",
    "primeiras500 = pd.read_csv('data/us_tax_data_2016.csv',  nrows=500, skiprows=0)\n",
    "proximas500 = pd.read_csv('data/us_tax_data_2016.csv', header=None, nrows=500, skiprows=500, names=list(primeiras500))\n",
    "\n",
    "print(primeiras500.head())\n",
    "print(proximas500.head())"
   ]
  },
  {
   "cell_type": "code",
   "execution_count": null,
   "id": "d6cac318",
   "metadata": {},
   "outputs": [],
   "source": [
    "3. Carregue o arquivo tax_data_2016.csv, visualize o atributo dtypes do dataframe e observe os tipos de dados de CEP e agi_stub.\n",
    "\n"
   ]
  },
  {
   "cell_type": "code",
   "execution_count": 42,
   "id": "978b51be",
   "metadata": {},
   "outputs": [
    {
     "name": "stdout",
     "output_type": "stream",
     "text": [
      "STATEFIPS     int64\n",
      "STATE        object\n",
      "zipcode       int64\n",
      "agi_stub      int64\n",
      "N1            int64\n",
      "              ...  \n",
      "A85300        int64\n",
      "N11901        int64\n",
      "A11901        int64\n",
      "N11902        int64\n",
      "A11902        int64\n",
      "Length: 147, dtype: object\n"
     ]
    }
   ],
   "source": [
    "import pandas as pd\n",
    "\n",
    "# Carregar o arquivo CSV\n",
    "df = pd.read_csv(\"data/us_tax_data_2016.csv\")\n",
    "\n",
    "# Visualizar os tipos de dados de cada coluna\n",
    "print(df.dtypes)"
   ]
  },
  {
   "cell_type": "markdown",
   "id": "eff7eb0c",
   "metadata": {},
   "source": [
    "4. Você deve ter observado que a coluna agi_stub contém números que correspondem a categorias de renda, e CEP tem valores de 5 dígitos que devem ser strings \n",
    "-- tratá-los como inteiros significa que perdemos 0s iniciais, que são significativos. \n",
    "\n",
    "Defina os tipos de dados corretos criando um dicionario chamado null_values, especificando que 0s na coluna CEP devem ser considerados valores NA.\n",
    "\n",
    "Depois, carregue tax_data_2016.csv, usando o argumento na_values e o dicionário para garantir que CEPs inválidos sejam tratados como ausentes.\n"
   ]
  },
  {
   "cell_type": "code",
   "execution_count": 45,
   "id": "5d72b375",
   "metadata": {},
   "outputs": [
    {
     "name": "stdout",
     "output_type": "stream",
     "text": [
      "STATEFIPS     int64\n",
      "STATE        object\n",
      "zipcode      object\n",
      "agi_stub      int32\n",
      "N1            int64\n",
      "              ...  \n",
      "A85300        int64\n",
      "N11901        int64\n",
      "A11901        int64\n",
      "N11902        int64\n",
      "A11902        int64\n",
      "Length: 147, dtype: object\n",
      "        STATEFIPS STATE zipcode  agi_stub      N1   mars1   MARS2   MARS4  \\\n",
      "0               1    AL       0         1  815440  477700  105350  221200   \n",
      "1               1    AL       0         2  495830  211930  142340  128890   \n",
      "2               1    AL       0         3  263390   83420  137870   36340   \n",
      "3               1    AL       0         4  167190   29420  124060   10610   \n",
      "4               1    AL       0         5  217440   20240  188080    4880   \n",
      "...           ...   ...     ...       ...     ...     ...     ...     ...   \n",
      "179791         56    WY   99999         2    2020    1100     620     260   \n",
      "179792         56    WY   99999         3    1330     570     630     130   \n",
      "179793         56    WY   99999         4     910     280     580      60   \n",
      "179794         56    WY   99999         5    1270     240    1010      40   \n",
      "179795         56    WY   99999         6     390      90     330       0   \n",
      "\n",
      "          PREP       N2  ...  N10300   A10300  N85530  A85530  N85300  A85300  \\\n",
      "0       440830  1296920  ...  367320   330066       0       0       0       0   \n",
      "1       272440   996240  ...  398050   984297       0       0       0       0   \n",
      "2       154880   584000  ...  253180  1349246       0       0       0       0   \n",
      "3        99700   421720  ...  165830  1425430       0       0       0       0   \n",
      "4       129410   601040  ...  216720  3922449     390     155      60      19   \n",
      "...        ...      ...  ...     ...      ...     ...     ...     ...     ...   \n",
      "179791    1140     3670  ...    1740     5088       0       0       0       0   \n",
      "179792     820     2720  ...    1280     7819       0       0       0       0   \n",
      "179793     640     2070  ...     890     8850       0       0       0       0   \n",
      "179794     950     3170  ...    1260    24173       0       0       0       0   \n",
      "179795     380      970  ...     390    71985      90     136     260    1982   \n",
      "\n",
      "        N11901  A11901  N11902   A11902  \n",
      "0        63420   51444  711580  1831661  \n",
      "1        74090  110889  416090  1173463  \n",
      "2        64000  143060  195130   543284  \n",
      "3        45020  128920  117410   381329  \n",
      "4        82940  423629  126130   506526  \n",
      "...        ...     ...     ...      ...  \n",
      "179791     290     489    1610     4057  \n",
      "179792     280     574     940     2625  \n",
      "179793     210     740     610     2195  \n",
      "179794     410    2520     680     3690  \n",
      "179795     180    6420      80    14096  \n",
      "\n",
      "[179796 rows x 147 columns]\n"
     ]
    }
   ],
   "source": [
    "import pandas as pd\n",
    "\n",
    "# Definir dicionário de valores nulos\n",
    "null_values = {\n",
    "    'zipcode': ['00000'],\n",
    "}\n",
    "\n",
    "# Carregar o arquivo CSV\n",
    "df = pd.read_csv(\"data/us_tax_data_2016.csv\", na_values=null_values)\n",
    "\n",
    "# Definir tipos de dados corretos\n",
    "df = df.astype({\n",
    "    'zipcode': 'str',  # Converter CEP para string\n",
    "    'agi_stub': 'int',  # Converter agi_stub para inteiro\n",
    "})\n",
    "\n",
    "# Verificar tipos de dados\n",
    "print(df.dtypes)\n",
    "print(df)"
   ]
  },
  {
   "cell_type": "markdown",
   "id": "83dd83e9",
   "metadata": {},
   "source": [
    "5. Leia o arquivo fcc_survey.xlsx, atribua-o à variável survey_responses e imprima os primeiros registros de survey_responses."
   ]
  },
  {
   "cell_type": "code",
   "execution_count": 2,
   "id": "331d413e",
   "metadata": {},
   "outputs": [
    {
     "name": "stdout",
     "output_type": "stream",
     "text": [
      "    Age  AttendedBootcamp  BootcampFinish  BootcampFullJobAfter  \\\n",
      "0  28.0               0.0             NaN                   NaN   \n",
      "1  22.0               0.0             NaN                   NaN   \n",
      "2  19.0               0.0             NaN                   NaN   \n",
      "3  26.0               0.0             NaN                   NaN   \n",
      "4  20.0               0.0             NaN                   NaN   \n",
      "\n",
      "   BootcampLoanYesNo  BootcampMonthsAgo BootcampName  BootcampPostSalary  \\\n",
      "0                NaN                NaN          NaN                 NaN   \n",
      "1                NaN                NaN          NaN                 NaN   \n",
      "2                NaN                NaN          NaN                 NaN   \n",
      "3                NaN                NaN          NaN                 NaN   \n",
      "4                NaN                NaN          NaN                 NaN   \n",
      "\n",
      "   BootcampRecommend  ChildrenNumber  ... ResourceSoloLearn  \\\n",
      "0                NaN             NaN  ...               NaN   \n",
      "1                NaN             NaN  ...               NaN   \n",
      "2                NaN             NaN  ...               NaN   \n",
      "3                NaN             NaN  ...               NaN   \n",
      "4                NaN             NaN  ...               NaN   \n",
      "\n",
      "   ResourceStackOverflow  ResourceTreehouse  ResourceUdacity  ResourceUdemy  \\\n",
      "0                    NaN                NaN              NaN            NaN   \n",
      "1                    NaN                NaN              NaN            1.0   \n",
      "2                    NaN                NaN              NaN            NaN   \n",
      "3                    NaN                NaN              NaN            NaN   \n",
      "4                    NaN                NaN              NaN            NaN   \n",
      "\n",
      "   ResourceW3Schools  ResourceYouTube  \\\n",
      "0                NaN              NaN   \n",
      "1                NaN              NaN   \n",
      "2                NaN              NaN   \n",
      "3                NaN              NaN   \n",
      "4                NaN              NaN   \n",
      "\n",
      "                              SchoolDegree              SchoolMajor  \\\n",
      "0           some college credit, no degree                      NaN   \n",
      "1           some college credit, no degree                      NaN   \n",
      "2  high school diploma or equivalent (GED)                      NaN   \n",
      "3                        bachelor's degree  Cinematography And Film   \n",
      "4           some college credit, no degree                      NaN   \n",
      "\n",
      "   StudentDebtOwe  \n",
      "0         20000.0  \n",
      "1             NaN  \n",
      "2             NaN  \n",
      "3          7000.0  \n",
      "4             NaN  \n",
      "\n",
      "[5 rows x 113 columns]\n"
     ]
    }
   ],
   "source": [
    "import pandas as pd\n",
    "\n",
    "# Ler o arquivo Excel e atribuir a variável\n",
    "survey_responses = pd.read_excel(\"data/fcc_survey.xlsx\", nrows=500)\n",
    "\n",
    "# Imprimir os primeiros registros\n",
    "print(survey_responses.head())"
   ]
  },
  {
   "cell_type": "markdown",
   "id": "fcbd12d8",
   "metadata": {},
   "source": [
    "6. Crie uma string chamada col_string, especificando que os pandas devem carregar a coluna AD e o intervalo AW até BA.\n",
    "Carregue fcc_survey.xlsx, definindo ``skiprows`` e ``usecols`` para ignorar as duas primeiras linhas e obter apenas as colunas em col_string.\n",
    "Visualize os nomes das colunas selecionadas no dataframe resultante."
   ]
  },
  {
   "cell_type": "code",
   "execution_count": 3,
   "id": "3d651130",
   "metadata": {},
   "outputs": [
    {
     "name": "stdout",
     "output_type": "stream",
     "text": [
      "Index(['United States of America.1', 15000, '0.4', '0.5', '0.6', '1.1'], dtype='object')\n"
     ]
    }
   ],
   "source": [
    "import pandas as pd\n",
    "\n",
    "\n",
    "df = pd.read_excel('data/fcc_survey.xlsx', skiprows=2, usecols='AD, AW:BA')\n",
    "\n",
    "print(df.columns)"
   ]
  }
 ],
 "metadata": {
  "kernelspec": {
   "display_name": "Python 3",
   "language": "python",
   "name": "python3"
  },
  "language_info": {
   "codemirror_mode": {
    "name": "ipython",
    "version": 3
   },
   "file_extension": ".py",
   "mimetype": "text/x-python",
   "name": "python",
   "nbconvert_exporter": "python",
   "pygments_lexer": "ipython3",
   "version": "3.9.12"
  }
 },
 "nbformat": 4,
 "nbformat_minor": 5
}
